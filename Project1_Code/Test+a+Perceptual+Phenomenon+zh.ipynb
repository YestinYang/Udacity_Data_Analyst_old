{
 "cells": [
  {
   "cell_type": "markdown",
   "metadata": {},
   "source": [
    "### 统计学：检验心理学现象\n",
    "\n",
    "在下方单元格中回答问题并执行相关代码，你可以 [参考项目指导](https://github.com/udacity/new-dand-advanced-china/blob/master/%E6%A3%80%E9%AA%8C%E5%BF%83%E7%90%86%E5%AD%A6%E7%8E%B0%E8%B1%A1/%E7%BB%9F%E8%AE%A1%E5%AD%A6%EF%BC%9A%E6%A3%80%E9%AA%8C%E5%BF%83%E7%90%86%E5%AD%A6%E7%8E%B0%E8%B1%A1.md) 并在正式提交前查看 [项目要求](https://review.udacity.com/#!/rubrics/305/view)。提交时请将 Jupyter notebook 导出成 HTML 或者 PDF 进行提交（File -> Download As）。\n",
    "\n",
    "背景信息\n",
    "\n",
    "在一个Stroop （斯特鲁普）任务中，参与者得到了一列文字，每个文字都用一种油墨颜色展示。参与者的任务是将文字的打印颜色大声说出来。这项任务有两个条件：一致文字条件，和不一致文字条件。在一致文字条件中，显示的文字是与它们的打印颜色匹配的颜色词，如“红色”、“蓝色”。在不一致文字条件中，显示的文字是与它们的打印颜色不匹配的颜色词，如“紫色”、“橙色”。在每个情况中，我们将计量说出同等大小的列表中的墨色名称的时间。每位参与者必须全部完成并记录每种条件下使用的时间。\n",
    "\n",
    "调查问题\n",
    "\n",
    "作为一般说明，请确保记录你在创建项目时使用或参考的任何资源。作为项目提交的一部分，你将需要报告信息来源。\n",
    "\n",
    "(1) 我们的自变量是什么？因变量是什么？"
   ]
  },
  {
   "cell_type": "markdown",
   "metadata": {},
   "source": [
    "- **自变量**：文字条件是否一致\n",
    "- **因变量**：参与者朗读所花费的时间。"
   ]
  },
  {
   "cell_type": "markdown",
   "metadata": {},
   "source": [
    "(2) 此任务的适当假设集是什么？你需要以文字和数学符号方式对假设集中的零假设和对立假设加以说明，并对数学符号进行定义。你想执行什么类型的统计检验？为你的选择提供正当理由（比如，为何该实验满足你所选统计检验的前置条件）。"
   ]
  },
  {
   "cell_type": "markdown",
   "metadata": {},
   "source": [
    "- **Null Hypothesis**: 无论文字条件是否一致，参与者朗读同等大小列表的墨色名称所花费的总体平均时间（population mean）相同\n",
    "- **Alternative Hypothesis**: 当文字与打印颜色不一致时，参与者朗读同等大小列表的墨色名称所花费的总体平均时间更多\n",
    "\n",
    "- 以数学符号说明，即$H_0: \\mu_0-\\mu_1\\ge0$ 和 $H_1: \\mu_0-\\mu_1<0$。其中$\\mu_0$为文字条件一致时，朗读所花费的总体平均时间；$\\mu_1$为文字条件不一致时，朗读所花费的总体平均时间。\n",
    "\n",
    "- 根据以下三个条件，此处使用paired one-sided t-test with different variance进行统计检验\n",
    "    - 研究目标为两个样本平均值的差异是否具有统计显著性；总体标准差未知且样本数小于30 --> t-test\n",
    "        - 对于t-test的使用，根据实验采样的描述和之后的分析可以得知实验满足t-test的assumption\n",
    "            - 具有二元自变量\n",
    "            - 两组因变量样本皆呈正态分布\n",
    "            - 样本标准差可以用于估计总体标准差\n",
    "            - 两组因变量样本的标准差相近\n",
    "    - 两次采样是改变测试条件后，对同一组参与者进行的 --> paired\n",
    "    - 根据Stroop Effect的描述，当文字条件不一致时，参与者花费的时间更多  --> one-sided"
   ]
  },
  {
   "cell_type": "markdown",
   "metadata": {},
   "source": [
    "现在轮到你自行尝试 Stroop 任务了。前往此链接，其中包含一个基于 Java 的小程序，专门用于执行 Stroop 任务。记录你收到的任务时间（你无需将时间提交到网站）。现在下载此数据集，其中包含一些任务参与者的结果。数据集的每行包含一名参与者的表现，第一个数字代表他们的一致任务结果，第二个数字代表不一致任务结果。\n",
    "\n",
    "(3) 报告关于此数据集的一些描述性统计。包含至少一个集中趋势测量和至少一个变异测量。"
   ]
  },
  {
   "cell_type": "code",
   "execution_count": 8,
   "metadata": {},
   "outputs": [
    {
     "data": {
      "text/html": [
       "<div>\n",
       "<style>\n",
       "    .dataframe thead tr:only-child th {\n",
       "        text-align: right;\n",
       "    }\n",
       "\n",
       "    .dataframe thead th {\n",
       "        text-align: left;\n",
       "    }\n",
       "\n",
       "    .dataframe tbody tr th {\n",
       "        vertical-align: top;\n",
       "    }\n",
       "</style>\n",
       "<table border=\"1\" class=\"dataframe\">\n",
       "  <thead>\n",
       "    <tr style=\"text-align: right;\">\n",
       "      <th></th>\n",
       "      <th>Congruent</th>\n",
       "      <th>Incongruent</th>\n",
       "    </tr>\n",
       "  </thead>\n",
       "  <tbody>\n",
       "    <tr>\n",
       "      <th>count</th>\n",
       "      <td>24.000000</td>\n",
       "      <td>24.000000</td>\n",
       "    </tr>\n",
       "    <tr>\n",
       "      <th>mean</th>\n",
       "      <td>14.051125</td>\n",
       "      <td>22.015917</td>\n",
       "    </tr>\n",
       "    <tr>\n",
       "      <th>std</th>\n",
       "      <td>3.559358</td>\n",
       "      <td>4.797057</td>\n",
       "    </tr>\n",
       "    <tr>\n",
       "      <th>min</th>\n",
       "      <td>8.630000</td>\n",
       "      <td>15.687000</td>\n",
       "    </tr>\n",
       "    <tr>\n",
       "      <th>25%</th>\n",
       "      <td>11.895250</td>\n",
       "      <td>18.716750</td>\n",
       "    </tr>\n",
       "    <tr>\n",
       "      <th>50%</th>\n",
       "      <td>14.356500</td>\n",
       "      <td>21.017500</td>\n",
       "    </tr>\n",
       "    <tr>\n",
       "      <th>75%</th>\n",
       "      <td>16.200750</td>\n",
       "      <td>24.051500</td>\n",
       "    </tr>\n",
       "    <tr>\n",
       "      <th>max</th>\n",
       "      <td>22.328000</td>\n",
       "      <td>35.255000</td>\n",
       "    </tr>\n",
       "  </tbody>\n",
       "</table>\n",
       "</div>"
      ],
      "text/plain": [
       "       Congruent  Incongruent\n",
       "count  24.000000    24.000000\n",
       "mean   14.051125    22.015917\n",
       "std     3.559358     4.797057\n",
       "min     8.630000    15.687000\n",
       "25%    11.895250    18.716750\n",
       "50%    14.356500    21.017500\n",
       "75%    16.200750    24.051500\n",
       "max    22.328000    35.255000"
      ]
     },
     "execution_count": 8,
     "metadata": {},
     "output_type": "execute_result"
    }
   ],
   "source": [
    "import pandas as pd\n",
    "\n",
    "df = pd.read_csv(\"stroopdata.csv\")\n",
    "df.describe()"
   ]
  },
  {
   "cell_type": "markdown",
   "metadata": {},
   "source": [
    "**从描述性统计的结果来看**\n",
    "- 花费时间的样本均值（sample mean）\n",
    "    - 文字条件一致时，$\\bar{y_0}=14.05$\n",
    "    - 文字条件不一致时，$\\bar{y_1}=22.02$\n",
    "    - 差值$\\bar{d}=\\bar{y_0}-\\bar{y_1}=-7.96$\n",
    "- 花费时间的样本标准差（sample standard variance）\n",
    "    - 文字条件一致时，$s_0=3.56$\n",
    "    - 文字条件不一致时，$s_1=4.80$\n",
    "- 花费时间的样本中位数（sample median）\n",
    "    - 文字条件一致时，$median_0 = 14.36$，距离对应样本均值$\\frac{\\bar{y_0}-median_0}{s_0}=-0.09$个标准差，集中趋势明显\n",
    "    - 文字条件不一致时，$median_1 = 21.02$，距离对应样本均值$\\frac{\\bar{y_1}-median_1}{s_1}=0.21$个标准差，集中趋势明显"
   ]
  },
  {
   "cell_type": "markdown",
   "metadata": {},
   "source": [
    "(4) 提供显示样本数据分布的一个或两个可视化。用一两句话说明你从图中观察到的结果。"
   ]
  },
  {
   "cell_type": "code",
   "execution_count": 9,
   "metadata": {},
   "outputs": [
    {
     "data": {
      "text/plain": [
       "<matplotlib.legend.Legend at 0x7fba27edccf8>"
      ]
     },
     "execution_count": 9,
     "metadata": {},
     "output_type": "execute_result"
    },
    {
     "data": {
      "image/png": "[encoded data removed]",
      "text/plain": [
       "<matplotlib.figure.Figure at 0x7fba287392b0>"
      ]
     },
     "metadata": {},
     "output_type": "display_data"
    }
   ],
   "source": [
    "import seaborn as sns\n",
    "import matplotlib.pyplot as plt\n",
    "\n",
    "# Distribution Plot\n",
    "sns.distplot(df.iloc[:,0], label='Congruent')\n",
    "sns.distplot(df.iloc[:,1],  axlabel='Time', label='Incongruent' )\n",
    "plt.legend()"
   ]
  },
  {
   "cell_type": "code",
   "execution_count": 10,
   "metadata": {
    "scrolled": true
   },
   "outputs": [
    {
     "data": {
      "text/plain": [
       "<matplotlib.axes._subplots.AxesSubplot at 0x7fba370792b0>"
      ]
     },
     "execution_count": 10,
     "metadata": {},
     "output_type": "execute_result"
    },
    {
     "data": {
      "image/png": "[encoded data removed]",
      "text/plain": [
       "<matplotlib.figure.Figure at 0x7fba3707dfd0>"
      ]
     },
     "metadata": {},
     "output_type": "display_data"
    }
   ],
   "source": [
    "# Individual Response Comparison\n",
    "df['Individual'] = df.index\n",
    "df_unpivot = pd.melt(df, id_vars = ['Individual'], value_vars =['Congruent','Incongruent'],\n",
    "                    var_name='Text Consistency', value_name='Time')\n",
    "sns.barplot(x=\"Individual\", y=\"Time\", hue=\"Text Consistency\", data=df_unpivot)"
   ]
  },
  {
   "cell_type": "markdown",
   "metadata": {},
   "source": [
    "**从可视化结果来看**\n",
    "- 两组样本集中趋势明显，与描述性分析结果一致\n",
    "- 从整体分布来看，文本不一致时，参与者花费时间的更长\n",
    "- 从同一参与者的两次反馈来看，文本不一致时，花费时间皆长于文本一致的测试"
   ]
  },
  {
   "cell_type": "markdown",
   "metadata": {},
   "source": [
    "(5) 现在，执行统计测试并报告你的结果。你的置信水平和关键统计值是多少？你是否成功拒绝零假设？对试验任务得出一个结论。结果是否与你的期望一致？"
   ]
  },
  {
   "cell_type": "code",
   "execution_count": 11,
   "metadata": {},
   "outputs": [
    {
     "name": "stdout",
     "output_type": "stream",
     "text": [
      "Ttest_relResult(statistic=-8.020706944109957, pvalue=4.1030005857111781e-08)\n"
     ]
    }
   ],
   "source": [
    "from scipy import stats\n",
    "\n",
    "paired_ttest = stats.ttest_rel(df.Congruent, df.Incongruent)\n",
    "print (paired_ttest)"
   ]
  },
  {
   "cell_type": "code",
   "execution_count": 12,
   "metadata": {},
   "outputs": [
    {
     "name": "stdout",
     "output_type": "stream",
     "text": [
      "2.05150029286e-08\n"
     ]
    }
   ],
   "source": [
    "# Transform two-sided t-test result to one-sided\n",
    "\n",
    "p_one_sided = paired_ttest.pvalue/2\n",
    "print (p_one_sided)"
   ]
  },
  {
   "cell_type": "markdown",
   "metadata": {},
   "source": [
    "**从paried t-test的结果来看**\n",
    "- `t-statistic`的值小于0，说明文字条件一致的样本均值小于文字条件不一致的样本均值，与可视化结果相同\n",
    "- 若将置信水平设为5%, 则因`p_one_sided`的值远小于5%，故reject Null Hypothesis\n",
    "- 结果与stroop effect的描述一致，即当文字条件不一致时，当文字与打印颜色不一致时，参与者朗读同等大小列表的墨色名称所花费的总体平均时间更多"
   ]
  },
  {
   "cell_type": "markdown",
   "metadata": {},
   "source": [
    "Reference:\n",
    "1. [T-Score vs. Z-Score: What’s the Difference?](http://www.statisticshowto.com/probability-and-statistics/hypothesis-testing/t-score-vs-z-score/)\n",
    "2. [Assumptions for the t-test](http://www.csic.cornell.edu/Elrod/t-test/t-test-assumptions.html)\n",
    "3. [Udacity Intro to Inferential Statistics: Assumption of T-test](https://classroom.udacity.com/courses/ud201/lessons/1330208559/concepts/2329210700923)\n",
    "4. [Stackoverflow: Create clustered bar chart across two columns in bokeh\n",
    "](https://stackoverflow.com/questions/41822200/create-clustered-bar-chart-across-two-columns-in-bokeh)\n",
    "5. [Stackoverflow: How to perform two-sample one-tailed t-test with numpy/scipy](https://stackoverflow.com/questions/15984221/how-to-perform-two-sample-one-tailed-t-test-with-numpy-scipy)\n",
    "6. [Khanacademy: One-tailed and two-tailed tests](https://www.khanacademy.org/math/statistics-probability/significance-tests-one-sample/more-significance-testing-videos/v/one-tailed-and-two-tailed-tests)"
   ]
  }
 ],
 "metadata": {
  "anaconda-cloud": {},
  "kernelspec": {
   "display_name": "Python 3",
   "language": "python",
   "name": "python3"
  },
  "language_info": {
   "codemirror_mode": {
    "name": "ipython",
    "version": 3
   },
   "file_extension": ".py",
   "mimetype": "text/x-python",
   "name": "python",
   "nbconvert_exporter": "python",
   "pygments_lexer": "ipython3",
   "version": "3.6.3"
  }
 },
 "nbformat": 4,
 "nbformat_minor": 2
}
