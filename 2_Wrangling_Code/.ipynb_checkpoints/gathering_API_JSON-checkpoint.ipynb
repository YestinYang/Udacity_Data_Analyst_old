{
 "cells": [
  {
   "cell_type": "code",
   "execution_count": 3,
   "metadata": {},
   "outputs": [],
   "source": [
    "# import Python wrapper of MediaWiki API for Wikipedia\n",
    "import wptools"
   ]
  },
  {
   "cell_type": "code",
   "execution_count": 4,
   "metadata": {},
   "outputs": [
    {
     "name": "stderr",
     "output_type": "stream",
     "text": [
      "en.wikipedia.org (query) E.T._the_Extra-Terrestrial\n",
      "en.wikipedia.org (parse) 73441\n",
      "www.wikidata.org (wikidata) Q11621\n",
      "www.wikidata.org (labels) Q952914|P921|P1411|Q787131|P1562|P1552|...\n",
      "www.wikidata.org (labels) Q499789|P31|P3933|Q739633|Q488651|P2465...\n",
      "www.wikidata.org (labels) P86|Q3897561|Q1044183|Q3414212|P3145|Q1...\n",
      "www.wikidata.org (labels) Q377616|P3143|P162|P750|Q139184|P3219|P...\n",
      "en.wikipedia.org (restbase) /page/summary/E.T._the_Extra-Terrestrial\n",
      "en.wikipedia.org (imageinfo) File:ET logo 3.svg|File:E t the extr...\n",
      "E.T. the Extra-Terrestrial (en) data\n",
      "{\n",
      "  aliases: <list(2)> E.T., ET\n",
      "  assessments: <dict(4)> United States, Film, Science Fiction, Lib...\n",
      "  claims: <dict(80)> P1562, P57, P272, P345, P31, P161, P373, P480...\n",
      "  description: 1982 American science fiction film\n",
      "  exhtml: <str(606)> <p><i><b>E.T. the Extra-Terrestrial</b></i> i...\n",
      "  exrest: <str(575)> E.T. the Extra-Terrestrial is a 1982 American...\n",
      "  extext: <str(1803)> _**E.T. the Extra-Terrestrial**_ is a 1982 A...\n",
      "  extract: <str(1899)> <p><i><b>E.T. the Extra-Terrestrial</b></i>...\n",
      "  image: <list(4)> {'kind': 'parse-image', 'file': 'File:E t the e...\n",
      "  infobox: <dict(18)> name, image, caption, director, producers, w...\n",
      "  iwlinks: <list(4)> https://commons.wikimedia.org/wiki/Special:Se...\n",
      "  label: E.T. the Extra-Terrestrial\n",
      "  labels: <dict(158)> Q952914, P921, P1411, Q787131, P1562, P1552,...\n",
      "  length: 75,436\n",
      "  links: <list(418)> 12 Monkeys, 12 Years a Slave (film), 1941 (fi...\n",
      "  modified: <dict(2)> page, wikidata\n",
      "  pageid: 73441\n",
      "  parsetree: <str(93969)> <root><template><title>Redirect</title><...\n",
      "  random: Vitals (website)\n",
      "  redirects: <list(38)> {'pageid': 177061, 'ns': 0, 'title': 'E.T....\n",
      "  requests: <list(9)> query, parse, wikidata, labels, labels, labe...\n",
      "  title: E.T._the_Extra-Terrestrial\n",
      "  url: https://en.wikipedia.org/wiki/E.T._the_Extra-Terrestrial\n",
      "  url_raw: <str(67)> https://en.wikipedia.org/wiki/E.T._the_Extra-...\n",
      "  watchers: 260\n",
      "  what: film\n",
      "  wikibase: Q11621\n",
      "  wikidata: <dict(80)> AllMovie movie ID (P1562), director (P57), ...\n",
      "  wikidata_pageid: 13150\n",
      "  wikidata_url: https://www.wikidata.org/wiki/Q11621\n",
      "  wikitext: <str(75147)> {{Redirect|E.T.|other uses|ET (disambigua...\n",
      "}\n"
     ]
    }
   ],
   "source": [
    "# 这里是你的代码：得到空白页对象\n",
    "# 这个网格需要花几秒钟运行\n",
    "page = wptools.page('E.T._the_Extra-Terrestrial').get()"
   ]
  },
  {
   "cell_type": "code",
   "execution_count": 5,
   "metadata": {},
   "outputs": [
    {
     "data": {
      "text/plain": [
       "[{'descriptionshorturl': 'https://en.wikipedia.org/w/index.php?curid=7419503',\n",
       "  'descriptionurl': 'https://en.wikipedia.org/wiki/File:E_t_the_extra_terrestrial_ver3.jpg',\n",
       "  'file': 'File:E t the extra terrestrial ver3.jpg',\n",
       "  'height': 394,\n",
       "  'kind': 'parse-image',\n",
       "  'metadata': {'Assessments': {'hidden': '',\n",
       "    'source': 'commons-categories',\n",
       "    'value': ''},\n",
       "   'Categories': {'hidden': '',\n",
       "    'source': 'commons-categories',\n",
       "    'value': 'All non-free media|E.T. the Extra-Terrestrial|Fair use images of movie posters|Files with no machine-readable author|Files with no machine-readable description|Files with no machine-readable license|Files with no machine-readable source|Noindexed pages|Non-free images for NFUR review|Non-free posters'},\n",
       "   'CommonsMetadataExtension': {'hidden': '',\n",
       "    'source': 'extension',\n",
       "    'value': 1.2},\n",
       "   'DateTime': {'hidden': '',\n",
       "    'source': 'mediawiki-metadata',\n",
       "    'value': '2016-06-04 10:30:46'},\n",
       "   'NonFree': {'hidden': '', 'source': 'commons-desc-page', 'value': 'true'},\n",
       "   'ObjectName': {'hidden': '',\n",
       "    'source': 'mediawiki-metadata',\n",
       "    'value': 'E t the extra terrestrial ver3'},\n",
       "   'Restrictions': {'hidden': '', 'source': 'commons-desc-page', 'value': ''}},\n",
       "  'orig': 'E t the extra terrestrial ver3.jpg',\n",
       "  'size': 83073,\n",
       "  'timestamp': '2016-06-04T10:30:46Z',\n",
       "  'title': 'File:E t the extra terrestrial ver3.jpg',\n",
       "  'url': 'https://upload.wikimedia.org/wikipedia/en/6/66/E_t_the_extra_terrestrial_ver3.jpg',\n",
       "  'width': 253},\n",
       " {'descriptionshorturl': 'https://commons.wikimedia.org/w/index.php?curid=14138952',\n",
       "  'descriptionurl': 'https://commons.wikimedia.org/wiki/File:ET_logo_3.svg',\n",
       "  'file': 'File:ET logo 3.svg',\n",
       "  'height': 380,\n",
       "  'kind': 'wikidata-image',\n",
       "  'metadata': {'Artist': {'source': 'commons-desc-page',\n",
       "    'value': '<a href=\"https://en.wikipedia.org/wiki/en:User:TheCuriousGnome\" class=\"extiw\" title=\"w:en:User:TheCuriousGnome\">User:TheCuriousGnome</a>'},\n",
       "   'Assessments': {'hidden': '', 'source': 'commons-categories', 'value': ''},\n",
       "   'AttributionRequired': {'hidden': '',\n",
       "    'source': 'commons-desc-page',\n",
       "    'value': 'false'},\n",
       "   'Categories': {'hidden': '',\n",
       "    'source': 'commons-categories',\n",
       "    'value': 'E.T. the Extra-Terrestrial|PD ineligible|With trademark'},\n",
       "   'CommonsMetadataExtension': {'hidden': '',\n",
       "    'source': 'extension',\n",
       "    'value': 1.2},\n",
       "   'Copyrighted': {'hidden': '',\n",
       "    'source': 'commons-desc-page',\n",
       "    'value': 'False'},\n",
       "   'Credit': {'hidden': '',\n",
       "    'source': 'commons-desc-page',\n",
       "    'value': 'Transferred from <a class=\"external text\" href=\"http://en.wikipedia.org\">en.wikipedia</a>'},\n",
       "   'DateTime': {'hidden': '',\n",
       "    'source': 'mediawiki-metadata',\n",
       "    'value': '2011-05-14 20:38:17'},\n",
       "   'DateTimeOriginal': {'source': 'commons-desc-page', 'value': '2011-02-28'},\n",
       "   'ImageDescription': {'source': 'commons-desc-page',\n",
       "    'value': 'Opening logo to the <a href=\"https://en.wikipedia.org/wiki/E.T._the_Extra-Terrestrial\" class=\"extiw\" title=\"en:E.T. the Extra-Terrestrial\">en:E.T. the Extra-Terrestrial</a> film'},\n",
       "   'License': {'hidden': '', 'source': 'commons-templates', 'value': 'pd'},\n",
       "   'LicenseShortName': {'hidden': '',\n",
       "    'source': 'commons-desc-page',\n",
       "    'value': 'Public domain'},\n",
       "   'ObjectName': {'hidden': '',\n",
       "    'source': 'mediawiki-metadata',\n",
       "    'value': 'ET logo 3'},\n",
       "   'Restrictions': {'hidden': '',\n",
       "    'source': 'commons-desc-page',\n",
       "    'value': 'trademarked'},\n",
       "   'UsageTerms': {'hidden': '',\n",
       "    'source': 'commons-desc-page',\n",
       "    'value': 'Public domain'}},\n",
       "  'orig': 'ET logo 3.svg',\n",
       "  'size': 77290,\n",
       "  'timestamp': '2011-05-14T20:38:17Z',\n",
       "  'title': 'File:ET logo 3.svg',\n",
       "  'url': 'https://upload.wikimedia.org/wikipedia/commons/8/85/ET_logo_3.svg',\n",
       "  'width': 512},\n",
       " {'file': 'File:E t the extra terrestrial ver3.jpg',\n",
       "  'height': 394,\n",
       "  'kind': 'restbase-original',\n",
       "  'orig': 'E_t_the_extra_terrestrial_ver3.jpg',\n",
       "  'url': 'https://upload.wikimedia.org/wikipedia/en/6/66/E_t_the_extra_terrestrial_ver3.jpg',\n",
       "  'width': 253},\n",
       " {'file': 'File:205px-E t the extra terrestrial ver3.jpg',\n",
       "  'height': 320,\n",
       "  'kind': 'restbase-thumb',\n",
       "  'orig': '205px-E_t_the_extra_terrestrial_ver3.jpg',\n",
       "  'url': 'https://upload.wikimedia.org/wikipedia/en/thumb/6/66/E_t_the_extra_terrestrial_ver3.jpg/205px-E_t_the_extra_terrestrial_ver3.jpg',\n",
       "  'width': 205}]"
      ]
     },
     "execution_count": 5,
     "metadata": {},
     "output_type": "execute_result"
    }
   ],
   "source": [
    "# 评估图片属性会返回这个页面的图片\n",
    "page.data['image']"
   ]
  },
  {
   "cell_type": "code",
   "execution_count": 6,
   "metadata": {},
   "outputs": [
    {
     "data": {
      "text/plain": [
       "{'descriptionshorturl': 'https://en.wikipedia.org/w/index.php?curid=7419503',\n",
       " 'descriptionurl': 'https://en.wikipedia.org/wiki/File:E_t_the_extra_terrestrial_ver3.jpg',\n",
       " 'file': 'File:E t the extra terrestrial ver3.jpg',\n",
       " 'height': 394,\n",
       " 'kind': 'parse-image',\n",
       " 'metadata': {'Assessments': {'hidden': '',\n",
       "   'source': 'commons-categories',\n",
       "   'value': ''},\n",
       "  'Categories': {'hidden': '',\n",
       "   'source': 'commons-categories',\n",
       "   'value': 'All non-free media|E.T. the Extra-Terrestrial|Fair use images of movie posters|Files with no machine-readable author|Files with no machine-readable description|Files with no machine-readable license|Files with no machine-readable source|Noindexed pages|Non-free images for NFUR review|Non-free posters'},\n",
       "  'CommonsMetadataExtension': {'hidden': '',\n",
       "   'source': 'extension',\n",
       "   'value': 1.2},\n",
       "  'DateTime': {'hidden': '',\n",
       "   'source': 'mediawiki-metadata',\n",
       "   'value': '2016-06-04 10:30:46'},\n",
       "  'NonFree': {'hidden': '', 'source': 'commons-desc-page', 'value': 'true'},\n",
       "  'ObjectName': {'hidden': '',\n",
       "   'source': 'mediawiki-metadata',\n",
       "   'value': 'E t the extra terrestrial ver3'},\n",
       "  'Restrictions': {'hidden': '', 'source': 'commons-desc-page', 'value': ''}},\n",
       " 'orig': 'E t the extra terrestrial ver3.jpg',\n",
       " 'size': 83073,\n",
       " 'timestamp': '2016-06-04T10:30:46Z',\n",
       " 'title': 'File:E t the extra terrestrial ver3.jpg',\n",
       " 'url': 'https://upload.wikimedia.org/wikipedia/en/6/66/E_t_the_extra_terrestrial_ver3.jpg',\n",
       " 'width': 253}"
      ]
     },
     "execution_count": 6,
     "metadata": {},
     "output_type": "execute_result"
    }
   ],
   "source": [
    "# Actually page.data returns a JSON file\n",
    "# Let's try the way for JSON\n",
    "page.data['image'][0]  # returning a JSON object"
   ]
  },
  {
   "cell_type": "code",
   "execution_count": 8,
   "metadata": {},
   "outputs": [
    {
     "data": {
      "text/plain": [
       "{'budget': '[[United States dollar|$]]10.5 million',\n",
       " 'caption': 'Theatrical release poster<br />by [[John Alvin]]',\n",
       " 'cinematography': '[[Allen Daviau]]',\n",
       " 'country': 'United States',\n",
       " 'director': '[[Steven Spielberg]]',\n",
       " 'distributor': 'Universal Pictures',\n",
       " 'editing': '[[Carol Littleton]]',\n",
       " 'gross': '[[United States dollar|$]]792.9 million',\n",
       " 'image': 'E t the extra terrestrial ver3.jpg',\n",
       " 'language': 'English',\n",
       " 'music': '[[John Williams]]',\n",
       " 'name': 'E.T. the Extra-Terrestrial',\n",
       " 'producers': '{{ubl|[[Kathleen Kennedy (producer)|Kathleen Kennedy]]|Steven Spielberg}}',\n",
       " 'released': '{{Film date|1982|05|26|[[1982 Cannes Film Festival|Cannes]]|1982|06|11|United States}}',\n",
       " 'runtime': '114 minutes',\n",
       " 'starring': '{{Plainlist|\\n* [[Dee Wallace]]\\n* [[Peter Coyote]]\\n* [[Henry Thomas]]}}',\n",
       " 'studio': '[[Universal Studios|Universal Pictures]]',\n",
       " 'writer': '[[Melissa Mathison]]'}"
      ]
     },
     "execution_count": 8,
     "metadata": {},
     "output_type": "execute_result"
    }
   ],
   "source": [
    "page.data['infobox']['director']  # retunring a JSON array"
   ]
  }
 ],
 "metadata": {
  "kernelspec": {
   "display_name": "Python 3",
   "language": "python",
   "name": "python3"
  },
  "language_info": {
   "codemirror_mode": {
    "name": "ipython",
    "version": 3
   },
   "file_extension": ".py",
   "mimetype": "text/x-python",
   "name": "python",
   "nbconvert_exporter": "python",
   "pygments_lexer": "ipython3",
   "version": "3.6.4"
  }
 },
 "nbformat": 4,
 "nbformat_minor": 2
}
