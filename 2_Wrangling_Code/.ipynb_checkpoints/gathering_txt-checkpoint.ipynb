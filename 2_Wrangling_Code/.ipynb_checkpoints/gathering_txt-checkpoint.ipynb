{
 "cells": [
  {
   "cell_type": "markdown",
   "metadata": {},
   "source": [
    "## Quiz"
   ]
  },
  {
   "cell_type": "code",
   "execution_count": 1,
   "metadata": {},
   "outputs": [],
   "source": [
    "import glob\n",
    "import pandas as pd"
   ]
  },
  {
   "cell_type": "code",
   "execution_count": 14,
   "metadata": {},
   "outputs": [],
   "source": [
    "# List of dictionaries to build file by file and later convert to a DataFrame\n",
    "df_list = []\n",
    "for ebert_review in glob.glob('ebert_reviews/*.txt'):\n",
    "    with open(ebert_review, encoding='utf-8') as file:\n",
    "        title = file.readline()[:-1]\n",
    "        # Your code here\n",
    "        review_url = file.readline()[:-1]  # return the first line of rest\n",
    "        review_text = file.read()  # return all of rest\n",
    "        # Append to list of dictionaries\n",
    "        df_list.append({'title': title,\n",
    "                        'review_url': review_url,\n",
    "                        'review_text': review_text})\n",
    "df = pd.DataFrame(df_list, columns = ['title', 'review_url', 'review_text'])"
   ]
  },
  {
   "cell_type": "markdown",
   "metadata": {},
   "source": [
    "## Solution Test\n",
    "Run the cell below the see if your solution is correct. If an `AssertionError` is thrown, your solution is incorrect. If no error is thrown, your solution is correct."
   ]
  },
  {
   "cell_type": "code",
   "execution_count": 15,
   "metadata": {
    "collapsed": true
   },
   "outputs": [
    {
     "ename": "AssertionError",
     "evalue": "DataFrame.iloc[:, 0] are different\n\nDataFrame.iloc[:, 0] values are different (100.0 %)\n[left]:  [Mad Max: Fury Road (2015), Spotlight (2015), Casablanca (1942), The Maltese Falcon (1941), Battleship Potemkin (1925), Toy Story 3 (2010), Star Trek (2009), M (1931), Zootopia (2016), Sunset Boulevard (1950), Pinocchio (1940), The Wrestler (2008), Modern Times (1936), Logan (2017), Vertigo (1958), Psycho (1960), The Treasure of the Sierra Madre (1948), The Big Sick (2017), Boyhood (2014), Finding Nemo (2003), The Third Man (1949), Rear Window (1954), Alien (1979), 12 Angry Men (Twelve Angry Men) (1957), Up (2009), Toy Story 2 (1999), Tokyo Story (Tôkyô monogatari) (1953), Manchester by the Sea (2016), Skyfall (2012), The Godfather, Part II (1974), King Kong (1933), The Adventures of Robin Hood (1938), The Bride of Frankenstein (1935), Apocalypse Now (1979), Army of Shadows (L'Armée des ombres) (1969), Hell or High Water (2016), Snow White and the Seven Dwarfs (1937), 12 Years a Slave (2013), The Battle of Algiers (La Battaglia di Algeri) (1967), L.A. Confidential (1997), Metropolis (1927), Taxi Driver (1976), All About Eve (1950), Moonlight (2016), Harry Potter and the Deathly Hallows - Part 2 (2011), The 400 Blows (Les Quatre cents coups) (1959), The Night of the Hunter (1955), Star Wars: Episode VII - The Force Awakens (2015), The Cabinet of Dr. Caligari (Das Cabinet des Dr. Caligari) (1920), Touch of Evil (1958), Dunkirk (2017), The Last Picture Show (1971), Argo (2012), Get Out (2017), Jaws (1975), Baby Driver (2017), The Jungle Book (2016), The Godfather (1972), Laura (1944), Brooklyn (2015), Gravity (2013), Inside Out (2015), Citizen Kane (1941), La La Land (2016), Seven Samurai (Shichinin no Samurai) (1956), The Dark Knight (2008), A Hard Day's Night (1964), The Grapes of Wrath (1940), The Wizard of Oz (1939), Arrival (2016), On the Waterfront (1954), E.T. The Extra-Terrestrial (1982), Man on Wire (2008), La Grande illusion (Grand Illusion) (1938), Bicycle Thieves (Ladri di biciclette) (1949), Toy Story (1995), The Good, the Bad and the Ugly (1966), Rashômon (1951), A Streetcar Named Desire (1951), Selma (2015), Singin' in the Rain (1952), Nosferatu, a Symphony of Horror (Nosferatu, eine Symphonie des Grauens) (Nosferatu the Vampire) (1922), Dr. Strangelove Or How I Learned to Stop Worrying and Love the Bomb (1964), Gone With the Wind (1939), Wonder Woman (2017), Rosemary's Baby (1968), The Wages of Fear (1953), The Babadook (2014)]\n[right]: [The Dark Knight (2008), Arrival (2016), Zootopia (2016), The Last Picture Show (1971), The Third Man (1949), Argo (2012), Hell or High Water (2016), Rashômon (1951), Rosemary's Baby (1968), Man on Wire (2008), Vertigo (1958), The Wages of Fear (1953), The Night of the Hunter (1955), Modern Times (1936), Dr. Strangelove Or How I Learned to Stop Worrying and Love the Bomb (1964), Inside Out (2015), Metropolis (1927), Touch of Evil (1958), Star Wars: Episode VII - The Force Awakens (2015), The Bride of Frankenstein (1935), 12 Angry Men (Twelve Angry Men) (1957), Finding Nemo (2003), The Babadook (2014), Moonlight (2016), Spotlight (2015), The Treasure of the Sierra Madre (1948), Singin' in the Rain (1952), M (1931), Sunset Boulevard (1950), A Hard Day's Night (1964), The 400 Blows (Les Quatre cents coups) (1959), Gone With the Wind (1939), Psycho (1960), Star Trek (2009), The Battle of Algiers (La Battaglia di Algeri) (1967), The Big Sick (2017), A Streetcar Named Desire (1951), The Good, the Bad and the Ugly (1966), Toy Story (1995), Citizen Kane (1941), Manchester by the Sea (2016), The Adventures of Robin Hood (1938), The Godfather (1972), Get Out (2017), The Grapes of Wrath (1940), Boyhood (2014), Wonder Woman (2017), E.T. The Extra-Terrestrial (1982), La La Land (2016), La Grande illusion (Grand Illusion) (1938), Skyfall (2012), Brooklyn (2015), Harry Potter and the Deathly Hallows - Part 2 (2011), Battleship Potemkin (1925), Casablanca (1942), The Godfather, Part II (1974), 12 Years a Slave (2013), Toy Story 2 (1999), Baby Driver (2017), The Jungle Book (2016), Apocalypse Now (1979), Tokyo Story (Tôkyô monogatari) (1953), All About Eve (1950), The Maltese Falcon (1941), Rear Window (1954), The Wizard of Oz (1939), The Cabinet of Dr. Caligari (Das Cabinet des Dr. Caligari) (1920), Toy Story 3 (2010), On the Waterfront (1954), King Kong (1933), Pinocchio (1940), Laura (1944), Snow White and the Seven Dwarfs (1937), Taxi Driver (1976), Dunkirk (2017), Jaws (1975), Nosferatu, a Symphony of Horror (Nosferatu, eine Symphonie des Grauens) (Nosferatu the Vampire) (1922), Alien (1979), The Wrestler (2008), Gravity (2013), Seven Samurai (Shichinin no Samurai) (1956), Up (2009), Mad Max: Fury Road (2015), Bicycle Thieves (Ladri di biciclette) (1949), Army of Shadows (L'Armée des ombres) (1969), Selma (2015), Logan (2017), L.A. Confidential (1997)]",
     "output_type": "error",
     "traceback": [
      "\u001b[0;31m---------------------------------------------------------------------------\u001b[0m",
      "\u001b[0;31mAssertionError\u001b[0m                            Traceback (most recent call last)",
      "\u001b[0;32m<ipython-input-15-3734e7da8818>\u001b[0m in \u001b[0;36m<module>\u001b[0;34m()\u001b[0m\n\u001b[1;32m      1\u001b[0m \u001b[0mdf_solution\u001b[0m \u001b[0;34m=\u001b[0m \u001b[0mpd\u001b[0m\u001b[0;34m.\u001b[0m\u001b[0mread_pickle\u001b[0m\u001b[0;34m(\u001b[0m\u001b[0;34m'df_solution.pkl'\u001b[0m\u001b[0;34m)\u001b[0m\u001b[0;34m\u001b[0m\u001b[0m\n\u001b[0;32m----> 2\u001b[0;31m \u001b[0mpd\u001b[0m\u001b[0;34m.\u001b[0m\u001b[0mtesting\u001b[0m\u001b[0;34m.\u001b[0m\u001b[0massert_frame_equal\u001b[0m\u001b[0;34m(\u001b[0m\u001b[0mdf\u001b[0m\u001b[0;34m,\u001b[0m \u001b[0mdf_solution\u001b[0m\u001b[0;34m)\u001b[0m\u001b[0;34m\u001b[0m\u001b[0m\n\u001b[0m",
      "\u001b[0;32m/opt/conda/lib/python3.6/site-packages/pandas/util/testing.py\u001b[0m in \u001b[0;36massert_frame_equal\u001b[0;34m(left, right, check_dtype, check_index_type, check_column_type, check_frame_type, check_less_precise, check_names, by_blocks, check_exact, check_datetimelike_compat, check_categorical, check_like, obj)\u001b[0m\n\u001b[1;32m   1441\u001b[0m                 \u001b[0mcheck_datetimelike_compat\u001b[0m\u001b[0;34m=\u001b[0m\u001b[0mcheck_datetimelike_compat\u001b[0m\u001b[0;34m,\u001b[0m\u001b[0;34m\u001b[0m\u001b[0m\n\u001b[1;32m   1442\u001b[0m                 \u001b[0mcheck_categorical\u001b[0m\u001b[0;34m=\u001b[0m\u001b[0mcheck_categorical\u001b[0m\u001b[0;34m,\u001b[0m\u001b[0;34m\u001b[0m\u001b[0m\n\u001b[0;32m-> 1443\u001b[0;31m                 obj='DataFrame.iloc[:, {0}]'.format(i))\n\u001b[0m\u001b[1;32m   1444\u001b[0m \u001b[0;34m\u001b[0m\u001b[0m\n\u001b[1;32m   1445\u001b[0m \u001b[0;34m\u001b[0m\u001b[0m\n",
      "\u001b[0;32m/opt/conda/lib/python3.6/site-packages/pandas/util/testing.py\u001b[0m in \u001b[0;36massert_series_equal\u001b[0;34m(left, right, check_dtype, check_index_type, check_series_type, check_less_precise, check_names, check_exact, check_datetimelike_compat, check_categorical, obj)\u001b[0m\n\u001b[1;32m   1320\u001b[0m                                      \u001b[0mcheck_less_precise\u001b[0m\u001b[0;34m=\u001b[0m\u001b[0mcheck_less_precise\u001b[0m\u001b[0;34m,\u001b[0m\u001b[0;34m\u001b[0m\u001b[0m\n\u001b[1;32m   1321\u001b[0m                                      \u001b[0mcheck_dtype\u001b[0m\u001b[0;34m=\u001b[0m\u001b[0mcheck_dtype\u001b[0m\u001b[0;34m,\u001b[0m\u001b[0;34m\u001b[0m\u001b[0m\n\u001b[0;32m-> 1322\u001b[0;31m                                      obj='{0}'.format(obj))\n\u001b[0m\u001b[1;32m   1323\u001b[0m \u001b[0;34m\u001b[0m\u001b[0m\n\u001b[1;32m   1324\u001b[0m     \u001b[0;31m# metadata comparison\u001b[0m\u001b[0;34m\u001b[0m\u001b[0;34m\u001b[0m\u001b[0m\n",
      "\u001b[0;32mpandas/_libs/testing.pyx\u001b[0m in \u001b[0;36mpandas._libs.testing.assert_almost_equal (pandas/_libs/testing.c:4156)\u001b[0;34m()\u001b[0m\n",
      "\u001b[0;32mpandas/_libs/testing.pyx\u001b[0m in \u001b[0;36mpandas._libs.testing.assert_almost_equal (pandas/_libs/testing.c:3274)\u001b[0;34m()\u001b[0m\n",
      "\u001b[0;32m/opt/conda/lib/python3.6/site-packages/pandas/util/testing.py\u001b[0m in \u001b[0;36mraise_assert_detail\u001b[0;34m(obj, message, left, right, diff)\u001b[0m\n\u001b[1;32m   1147\u001b[0m         \u001b[0mmsg\u001b[0m \u001b[0;34m=\u001b[0m \u001b[0mmsg\u001b[0m \u001b[0;34m+\u001b[0m \u001b[0;34m\"\\n[diff]: {diff}\"\u001b[0m\u001b[0;34m.\u001b[0m\u001b[0mformat\u001b[0m\u001b[0;34m(\u001b[0m\u001b[0mdiff\u001b[0m\u001b[0;34m=\u001b[0m\u001b[0mdiff\u001b[0m\u001b[0;34m)\u001b[0m\u001b[0;34m\u001b[0m\u001b[0m\n\u001b[1;32m   1148\u001b[0m \u001b[0;34m\u001b[0m\u001b[0m\n\u001b[0;32m-> 1149\u001b[0;31m     \u001b[0;32mraise\u001b[0m \u001b[0mAssertionError\u001b[0m\u001b[0;34m(\u001b[0m\u001b[0mmsg\u001b[0m\u001b[0;34m)\u001b[0m\u001b[0;34m\u001b[0m\u001b[0m\n\u001b[0m\u001b[1;32m   1150\u001b[0m \u001b[0;34m\u001b[0m\u001b[0m\n\u001b[1;32m   1151\u001b[0m \u001b[0;34m\u001b[0m\u001b[0m\n",
      "\u001b[0;31mAssertionError\u001b[0m: DataFrame.iloc[:, 0] are different\n\nDataFrame.iloc[:, 0] values are different (100.0 %)\n[left]:  [Mad Max: Fury Road (2015), Spotlight (2015), Casablanca (1942), The Maltese Falcon (1941), Battleship Potemkin (1925), Toy Story 3 (2010), Star Trek (2009), M (1931), Zootopia (2016), Sunset Boulevard (1950), Pinocchio (1940), The Wrestler (2008), Modern Times (1936), Logan (2017), Vertigo (1958), Psycho (1960), The Treasure of the Sierra Madre (1948), The Big Sick (2017), Boyhood (2014), Finding Nemo (2003), The Third Man (1949), Rear Window (1954), Alien (1979), 12 Angry Men (Twelve Angry Men) (1957), Up (2009), Toy Story 2 (1999), Tokyo Story (Tôkyô monogatari) (1953), Manchester by the Sea (2016), Skyfall (2012), The Godfather, Part II (1974), King Kong (1933), The Adventures of Robin Hood (1938), The Bride of Frankenstein (1935), Apocalypse Now (1979), Army of Shadows (L'Armée des ombres) (1969), Hell or High Water (2016), Snow White and the Seven Dwarfs (1937), 12 Years a Slave (2013), The Battle of Algiers (La Battaglia di Algeri) (1967), L.A. Confidential (1997), Metropolis (1927), Taxi Driver (1976), All About Eve (1950), Moonlight (2016), Harry Potter and the Deathly Hallows - Part 2 (2011), The 400 Blows (Les Quatre cents coups) (1959), The Night of the Hunter (1955), Star Wars: Episode VII - The Force Awakens (2015), The Cabinet of Dr. Caligari (Das Cabinet des Dr. Caligari) (1920), Touch of Evil (1958), Dunkirk (2017), The Last Picture Show (1971), Argo (2012), Get Out (2017), Jaws (1975), Baby Driver (2017), The Jungle Book (2016), The Godfather (1972), Laura (1944), Brooklyn (2015), Gravity (2013), Inside Out (2015), Citizen Kane (1941), La La Land (2016), Seven Samurai (Shichinin no Samurai) (1956), The Dark Knight (2008), A Hard Day's Night (1964), The Grapes of Wrath (1940), The Wizard of Oz (1939), Arrival (2016), On the Waterfront (1954), E.T. The Extra-Terrestrial (1982), Man on Wire (2008), La Grande illusion (Grand Illusion) (1938), Bicycle Thieves (Ladri di biciclette) (1949), Toy Story (1995), The Good, the Bad and the Ugly (1966), Rashômon (1951), A Streetcar Named Desire (1951), Selma (2015), Singin' in the Rain (1952), Nosferatu, a Symphony of Horror (Nosferatu, eine Symphonie des Grauens) (Nosferatu the Vampire) (1922), Dr. Strangelove Or How I Learned to Stop Worrying and Love the Bomb (1964), Gone With the Wind (1939), Wonder Woman (2017), Rosemary's Baby (1968), The Wages of Fear (1953), The Babadook (2014)]\n[right]: [The Dark Knight (2008), Arrival (2016), Zootopia (2016), The Last Picture Show (1971), The Third Man (1949), Argo (2012), Hell or High Water (2016), Rashômon (1951), Rosemary's Baby (1968), Man on Wire (2008), Vertigo (1958), The Wages of Fear (1953), The Night of the Hunter (1955), Modern Times (1936), Dr. Strangelove Or How I Learned to Stop Worrying and Love the Bomb (1964), Inside Out (2015), Metropolis (1927), Touch of Evil (1958), Star Wars: Episode VII - The Force Awakens (2015), The Bride of Frankenstein (1935), 12 Angry Men (Twelve Angry Men) (1957), Finding Nemo (2003), The Babadook (2014), Moonlight (2016), Spotlight (2015), The Treasure of the Sierra Madre (1948), Singin' in the Rain (1952), M (1931), Sunset Boulevard (1950), A Hard Day's Night (1964), The 400 Blows (Les Quatre cents coups) (1959), Gone With the Wind (1939), Psycho (1960), Star Trek (2009), The Battle of Algiers (La Battaglia di Algeri) (1967), The Big Sick (2017), A Streetcar Named Desire (1951), The Good, the Bad and the Ugly (1966), Toy Story (1995), Citizen Kane (1941), Manchester by the Sea (2016), The Adventures of Robin Hood (1938), The Godfather (1972), Get Out (2017), The Grapes of Wrath (1940), Boyhood (2014), Wonder Woman (2017), E.T. The Extra-Terrestrial (1982), La La Land (2016), La Grande illusion (Grand Illusion) (1938), Skyfall (2012), Brooklyn (2015), Harry Potter and the Deathly Hallows - Part 2 (2011), Battleship Potemkin (1925), Casablanca (1942), The Godfather, Part II (1974), 12 Years a Slave (2013), Toy Story 2 (1999), Baby Driver (2017), The Jungle Book (2016), Apocalypse Now (1979), Tokyo Story (Tôkyô monogatari) (1953), All About Eve (1950), The Maltese Falcon (1941), Rear Window (1954), The Wizard of Oz (1939), The Cabinet of Dr. Caligari (Das Cabinet des Dr. Caligari) (1920), Toy Story 3 (2010), On the Waterfront (1954), King Kong (1933), Pinocchio (1940), Laura (1944), Snow White and the Seven Dwarfs (1937), Taxi Driver (1976), Dunkirk (2017), Jaws (1975), Nosferatu, a Symphony of Horror (Nosferatu, eine Symphonie des Grauens) (Nosferatu the Vampire) (1922), Alien (1979), The Wrestler (2008), Gravity (2013), Seven Samurai (Shichinin no Samurai) (1956), Up (2009), Mad Max: Fury Road (2015), Bicycle Thieves (Ladri di biciclette) (1949), Army of Shadows (L'Armée des ombres) (1969), Selma (2015), Logan (2017), L.A. Confidential (1997)]"
     ]
    }
   ],
   "source": [
    "df_solution = pd.read_pickle('df_solution.pkl')\n",
    "pd.testing.assert_frame_equal(df, df_solution)"
   ]
  }
 ],
 "metadata": {
  "kernelspec": {
   "display_name": "Python 3",
   "language": "python",
   "name": "python3"
  },
  "language_info": {
   "codemirror_mode": {
    "name": "ipython",
    "version": 3
   },
   "file_extension": ".py",
   "mimetype": "text/x-python",
   "name": "python",
   "nbconvert_exporter": "python",
   "pygments_lexer": "ipython3",
   "version": "3.6.4"
  }
 },
 "nbformat": 4,
 "nbformat_minor": 2
}
