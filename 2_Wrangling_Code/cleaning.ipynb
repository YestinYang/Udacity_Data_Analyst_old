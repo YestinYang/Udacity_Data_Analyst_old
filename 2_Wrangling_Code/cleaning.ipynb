{
 "cells": [
  {
   "cell_type": "markdown",
   "metadata": {},
   "source": [
    "## 收集"
   ]
  },
  {
   "cell_type": "code",
   "execution_count": null,
   "metadata": {},
   "outputs": [],
   "source": [
    "import pandas as pd"
   ]
  },
  {
   "cell_type": "code",
   "execution_count": null,
   "metadata": {},
   "outputs": [],
   "source": [
    "patients = pd.read_csv('patients.csv')\n",
    "treatments = pd.read_csv('treatments.csv')\n",
    "adverse_reactions = pd.read_csv('adverse_reactions.csv')"
   ]
  },
  {
   "cell_type": "markdown",
   "metadata": {},
   "source": [
    "## 评估"
   ]
  },
  {
   "cell_type": "code",
   "execution_count": null,
   "metadata": {},
   "outputs": [],
   "source": [
    "patients"
   ]
  },
  {
   "cell_type": "code",
   "execution_count": null,
   "metadata": {},
   "outputs": [],
   "source": [
    "treatments"
   ]
  },
  {
   "cell_type": "code",
   "execution_count": null,
   "metadata": {},
   "outputs": [],
   "source": [
    "adverse_reactions"
   ]
  },
  {
   "cell_type": "code",
   "execution_count": null,
   "metadata": {},
   "outputs": [],
   "source": [
    "patients.info()"
   ]
  },
  {
   "cell_type": "code",
   "execution_count": null,
   "metadata": {},
   "outputs": [],
   "source": [
    "treatments.info()"
   ]
  },
  {
   "cell_type": "code",
   "execution_count": null,
   "metadata": {},
   "outputs": [],
   "source": [
    "adverse_reactions.info()"
   ]
  },
  {
   "cell_type": "code",
   "execution_count": null,
   "metadata": {},
   "outputs": [],
   "source": [
    "all_columns = pd.Series(list(patients) + list(treatments) + list(adverse_reactions))\n",
    "all_columns[all_columns.duplicated()]"
   ]
  },
  {
   "cell_type": "code",
   "execution_count": null,
   "metadata": {},
   "outputs": [],
   "source": [
    "list(patients)"
   ]
  },
  {
   "cell_type": "code",
   "execution_count": null,
   "metadata": {},
   "outputs": [],
   "source": [
    "patients[patients['address'].isnull()]"
   ]
  },
  {
   "cell_type": "code",
   "execution_count": null,
   "metadata": {},
   "outputs": [],
   "source": [
    "patients.describe()"
   ]
  },
  {
   "cell_type": "code",
   "execution_count": null,
   "metadata": {},
   "outputs": [],
   "source": [
    "treatments.describe()"
   ]
  },
  {
   "cell_type": "code",
   "execution_count": null,
   "metadata": {},
   "outputs": [],
   "source": [
    "patients.sample(5)"
   ]
  },
  {
   "cell_type": "code",
   "execution_count": null,
   "metadata": {},
   "outputs": [],
   "source": [
    "patients.surname.value_counts()"
   ]
  },
  {
   "cell_type": "code",
   "execution_count": null,
   "metadata": {},
   "outputs": [],
   "source": [
    "patients.address.value_counts()"
   ]
  },
  {
   "cell_type": "code",
   "execution_count": null,
   "metadata": {},
   "outputs": [],
   "source": [
    "patients[patients.address.duplicated()]"
   ]
  },
  {
   "cell_type": "code",
   "execution_count": null,
   "metadata": {},
   "outputs": [],
   "source": [
    "patients.weight.sort_values()"
   ]
  },
  {
   "cell_type": "code",
   "execution_count": null,
   "metadata": {},
   "outputs": [],
   "source": [
    "weight_lbs = patients[patients.surname == 'Zaitseva'].weight * 2.20462\n",
    "height_in = patients[patients.surname == 'Zaitseva'].height\n",
    "bmi_check = 703 * weight_lbs / (height_in * height_in)\n",
    "bmi_check"
   ]
  },
  {
   "cell_type": "code",
   "execution_count": null,
   "metadata": {},
   "outputs": [],
   "source": [
    "patients[patients.surname == 'Zaitseva'].bmi"
   ]
  },
  {
   "cell_type": "code",
   "execution_count": null,
   "metadata": {},
   "outputs": [],
   "source": [
    "sum(treatments.auralin.isnull())"
   ]
  },
  {
   "cell_type": "code",
   "execution_count": null,
   "metadata": {},
   "outputs": [],
   "source": [
    "sum(treatments.novodra.isnull())"
   ]
  },
  {
   "cell_type": "markdown",
   "metadata": {},
   "source": [
    "#### 质量\n",
    "##### `patients` 表格\n",
    "- 邮编是浮点，而不是字符串\n",
    "- 邮编有时是四位数\n",
    "- Tim Neudorf 的身高是 27 英尺，而不是 72 英尺\n",
    "- 有时使用州的全称，其他用简称\n",
    "- Dsvid Gustafsson\n",
    "- 缺少人口统计信息 (地址列至联系方式列) ***(无法清理)***\n",
    "- 错误的数据类型 (指定性别、州、邮编和出生日期列)\n",
    "- 多个手机号格式\n",
    "- John Doe 的默认数据\n",
    "- Jakobsen、Gersten、Taylor 多条记录\n",
    "- Zaitseva 体重单位是 kgs，不是 lbs \n",
    "\n",
    "##### `treatments` 表格\n",
    "- 缺少 HbA1c 变化\n",
    "- Auralin 和 Novodra 初始剂量和最终剂量中的字母 'u' \n",
    "- 小写形式的姓和名\n",
    "- 缺少记录 (280 而不是 350)\n",
    "- 错误的数据类型 (auralin 和 novodra 列)\n",
    "- HbA1c 变化不准确 (多个开头的 4 被误写为 9 )\n",
    "- auralin 和 novodra 列中空值用破折号 (-) 表示\n",
    "\n",
    "##### `adverse_reactions` 表格\n",
    "- 小写形式的姓和名\n",
    "\n",
    "#### 清洁度\n",
    "-  `patients` 表格中的联系方式一列应该拆分为手机号和邮箱两列\n",
    "-  `treatments` 表格两列中的三个变量 (治疗、初始剂量和最终剂量)\n",
    "-  不良反应应是 `treatments` 表格的一部分\n",
    "-  `patients` 表格中的姓和名两列复制到 `treatments` 和 `adverse_reactions` 表格中\n",
    "\n",
    "## 清理"
   ]
  },
  {
   "cell_type": "code",
   "execution_count": null,
   "metadata": {},
   "outputs": [],
   "source": [
    "patients_clean = patients.copy()\n",
    "treatments_clean = treatments.copy()\n",
    "adverse_reactions_clean = adverse_reactions.copy()"
   ]
  },
  {
   "cell_type": "markdown",
   "metadata": {},
   "source": [
    "### 缺失数据\n",
    "\n",
    "<font color='red'>观看 *\"首先解决缺失数据问题\"* 视频后，完成下列两个 \"缺失数据\" **定义、代码和测试** 顺序。</font>\n",
    "\n",
    "#### `treatments`： 缺少记录 (280 而不是 350)\n",
    "\n",
    "##### 定义\n",
    "*这里是你的定义。注释：缺少的 `treatments` 记录存储在文件中，命名为 `treatments_cut.csv`，你可以在这个 Jupyter Notebook 指示板中查看 (点击 Notebook 左上角的 **jupyter** 标志)。提示： 解答中使用的函数 [文档页面](https://pandas.pydata.org/pandas-docs/stable/generated/pandas.concat.html) 。*\n",
    "\n",
    "##### 代码"
   ]
  },
  {
   "cell_type": "code",
   "execution_count": null,
   "metadata": {},
   "outputs": [],
   "source": [
    "# 这里是你的清理代码"
   ]
  },
  {
   "cell_type": "markdown",
   "metadata": {},
   "source": [
    "##### 测试"
   ]
  },
  {
   "cell_type": "code",
   "execution_count": null,
   "metadata": {},
   "outputs": [],
   "source": [
    "# 这里是你的测试代码"
   ]
  },
  {
   "cell_type": "markdown",
   "metadata": {},
   "source": [
    "#### `treatments`：缺少 HbA1c 变化和 HbA1c 变化不准确 (多个开头的 4 被误写为 9)\n",
    "*注释： \"HbA1c 变化不准确 (多个开头的 4 被误写为 9)\" 的观察属于准确度问题，而不是完整性问题，由于通过修改缺失的 \"缺少 HbA1c 变化\" 的清理操作，因此这也被包含在这个标题下面。在一个 **定义、代码和测试** 表头中多个观察数据会在这个记事本中出现。*\n",
    "\n",
    "##### 定义\n",
    "*这里是你的定义。*\n",
    "\n",
    "##### 代码"
   ]
  },
  {
   "cell_type": "code",
   "execution_count": null,
   "metadata": {},
   "outputs": [],
   "source": [
    "# 这里是你的清理代码"
   ]
  },
  {
   "cell_type": "markdown",
   "metadata": {},
   "source": [
    "##### 测试"
   ]
  },
  {
   "cell_type": "code",
   "execution_count": null,
   "metadata": {},
   "outputs": [],
   "source": [
    "# 这里是你的测试代码"
   ]
  },
  {
   "cell_type": "markdown",
   "metadata": {},
   "source": [
    "### 清洁度\n",
    "\n",
    "<font color='red'>观看 *\"清洁度清理\"* 视频后，完成下列四个 \"清洁度\" **定义、代码和测试** 顺序。</font>\n",
    "\n",
    "####  `patients` 表格中的联系方式一列应该包括两个变量：手机号和邮箱\n",
    "\n",
    "##### 定义\n",
    "*这里是你的定义。提示 1：通过 pandas 的 [`str.extract` 方法](https://pandas.pydata.org/pandas-docs/stable/generated/pandas.Series.str.extract.html) 使用常规表达。这是个神奇的 [正则表达式教程](https://regexone.com/)。提示 2： [各种手机号正则表达式模式](https://stackoverflow.com/questions/16699007/regular-expression-to-match-standard-10-digit-phone-number)。提示 3：[邮箱地址正则表达式模式](http://emailregex.com/)，你可能需要用这个进行修改，区分邮箱地址和手机号。*\n",
    "\n",
    "##### 代码"
   ]
  },
  {
   "cell_type": "code",
   "execution_count": null,
   "metadata": {},
   "outputs": [],
   "source": [
    "# 这里是你的清理代码"
   ]
  },
  {
   "cell_type": "markdown",
   "metadata": {},
   "source": [
    "##### 测试"
   ]
  },
  {
   "cell_type": "code",
   "execution_count": null,
   "metadata": {},
   "outputs": [],
   "source": [
    "# 这里是你的测试代码"
   ]
  },
  {
   "cell_type": "markdown",
   "metadata": {},
   "source": [
    "####  `treatments` 表格两列中的三个变量 (治疗、初始剂量和最终剂量)\n",
    "\n",
    "##### 定义\n",
    "*这里是你的定义。提示：使用 pandas 的 [融合函数](https://pandas.pydata.org/pandas-docs/stable/generated/pandas.melt.html) 和 [`str.split()` 方法](https://pandas.pydata.org/pandas-docs/stable/generated/pandas.Series.str.split.html)。这是非常不错的 [`融合` 教程](https://deparkes.co.uk/2016/10/28/reshape-pandas-data-with-melt/).*\n",
    "\n",
    "##### 代码"
   ]
  },
  {
   "cell_type": "code",
   "execution_count": null,
   "metadata": {},
   "outputs": [],
   "source": [
    "# 这里是你的清理代码"
   ]
  },
  {
   "cell_type": "markdown",
   "metadata": {},
   "source": [
    "##### 测试"
   ]
  },
  {
   "cell_type": "code",
   "execution_count": null,
   "metadata": {},
   "outputs": [],
   "source": [
    "# 这里是你的测试代码"
   ]
  },
  {
   "cell_type": "markdown",
   "metadata": {},
   "source": [
    "#### 不良反应应是 `treatments` 表格的一部分\n",
    "\n",
    "##### 定义\n",
    "*这里是你的定义。提示：解答中使用的函数 [教程 ](https://chrisalbon.com/python/pandas_join_merge_dataframe.html) 。*\n",
    "\n",
    "##### 代码"
   ]
  },
  {
   "cell_type": "code",
   "execution_count": null,
   "metadata": {},
   "outputs": [],
   "source": [
    "# 这里是你的清理代码"
   ]
  },
  {
   "cell_type": "markdown",
   "metadata": {},
   "source": [
    "##### 测试"
   ]
  },
  {
   "cell_type": "code",
   "execution_count": null,
   "metadata": {},
   "outputs": [],
   "source": [
    "# 这里是你的测试代码"
   ]
  },
  {
   "cell_type": "markdown",
   "metadata": {},
   "source": [
    "####  `patients` 表格中的姓和名两列复制到 `treatments` 和 `adverse_reactions`小写 表格中，以及小写形式的姓和名 \n",
    "\n",
    "##### 定义\n",
    "*这里是你的定义。提示：解答中使用的函数 [教程](https://chrisalbon.com/python/pandas_join_merge_dataframe.html) 和另一个函数的[教程](http://erikrood.com/Python_References/dropping_rows_cols_pandas.html) 。*\n",
    "\n",
    "##### 代码"
   ]
  },
  {
   "cell_type": "code",
   "execution_count": null,
   "metadata": {},
   "outputs": [],
   "source": [
    "# 这里是你的清理代码"
   ]
  },
  {
   "cell_type": "markdown",
   "metadata": {},
   "source": [
    "##### 测试"
   ]
  },
  {
   "cell_type": "code",
   "execution_count": null,
   "metadata": {},
   "outputs": [],
   "source": [
    "# 这里是你的测试代码"
   ]
  },
  {
   "cell_type": "markdown",
   "metadata": {},
   "source": [
    "### 质量\n",
    "\n",
    "<font color='red'>观看 *\"质量清理\"* 视频后，完成剩余 \"质量\" **定义、代码和测试** 顺序。</font>\n",
    "\n",
    "#### 邮编是浮点，而不是字符串，有时是四位数\n",
    "\n",
    "##### 定义\n",
    "*这里是你的定义。提示：查看 \"数据清理过程\" 页面。*\n",
    "\n",
    "##### 代码"
   ]
  },
  {
   "cell_type": "code",
   "execution_count": null,
   "metadata": {},
   "outputs": [],
   "source": [
    "# 这里是你的清理代码"
   ]
  },
  {
   "cell_type": "markdown",
   "metadata": {},
   "source": [
    "##### 测试"
   ]
  },
  {
   "cell_type": "code",
   "execution_count": null,
   "metadata": {},
   "outputs": [],
   "source": [
    "# 这里是你的测试代码"
   ]
  },
  {
   "cell_type": "markdown",
   "metadata": {},
   "source": [
    "#### Tim Neudorf 的身高是 27 英尺，而不是 72 英尺\n",
    "\n",
    "##### 定义\n",
    "*这里是你的定义。*\n",
    "\n",
    "##### 代码"
   ]
  },
  {
   "cell_type": "code",
   "execution_count": null,
   "metadata": {},
   "outputs": [],
   "source": [
    "# 这里是你的清理代码"
   ]
  },
  {
   "cell_type": "markdown",
   "metadata": {},
   "source": [
    "##### 测试"
   ]
  },
  {
   "cell_type": "code",
   "execution_count": null,
   "metadata": {},
   "outputs": [],
   "source": [
    "# 这里是你的测试代码"
   ]
  },
  {
   "cell_type": "markdown",
   "metadata": {},
   "source": [
    "#### 有时使用州的全称，其他用简称\n",
    "\n",
    "##### 定义\n",
    "*这里是你的定义。提示：解答中使用的函数 [教程](https://chrisalbon.com/python/pandas_apply_operations_to_dataframes.html) 。*\n",
    "\n",
    "##### 代码"
   ]
  },
  {
   "cell_type": "code",
   "execution_count": null,
   "metadata": {},
   "outputs": [],
   "source": [
    "# 这里是你的清理代码"
   ]
  },
  {
   "cell_type": "markdown",
   "metadata": {},
   "source": [
    "##### 测试"
   ]
  },
  {
   "cell_type": "code",
   "execution_count": null,
   "metadata": {},
   "outputs": [],
   "source": [
    "# 这里是你的测试代码"
   ]
  },
  {
   "cell_type": "markdown",
   "metadata": {},
   "source": [
    "#### Dsvid Gustafsson\n",
    "\n",
    "##### 定义\n",
    "*这里是你的定义。*\n",
    "\n",
    "##### 代码"
   ]
  },
  {
   "cell_type": "code",
   "execution_count": null,
   "metadata": {},
   "outputs": [],
   "source": [
    "# 这里是你的清理代码"
   ]
  },
  {
   "cell_type": "markdown",
   "metadata": {},
   "source": [
    "##### 测试"
   ]
  },
  {
   "cell_type": "code",
   "execution_count": null,
   "metadata": {},
   "outputs": [],
   "source": [
    "# 这里是你的测试代码"
   ]
  },
  {
   "cell_type": "markdown",
   "metadata": {},
   "source": [
    "#### 错误的数据类型 (指定性别、州、邮编和出生日期列) 和错误的数据类型 (auralin 和 novodra 列)，以及 Auralin 和 Novodra 初始剂量和最终剂量中的字母 'u' \n",
    "\n",
    "##### 定义\n",
    "*这里是你的定义。提示：解答中使用的方法 [文档页面](https://pandas.pydata.org/pandas-docs/stable/generated/pandas.Series.astype.html)、函数 [文档页面](http://pandas.pydata.org/pandas-docs/version/0.20/generated/pandas.to_datetime.html) 以及另一种方法的 [文档页面](https://pandas.pydata.org/pandas-docs/stable/generated/pandas.Series.str.strip.html)。*\n",
    "\n",
    "##### 代码"
   ]
  },
  {
   "cell_type": "code",
   "execution_count": null,
   "metadata": {},
   "outputs": [],
   "source": [
    "# 这里是你的清理代码"
   ]
  },
  {
   "cell_type": "markdown",
   "metadata": {},
   "source": [
    "##### 测试"
   ]
  },
  {
   "cell_type": "code",
   "execution_count": null,
   "metadata": {},
   "outputs": [],
   "source": [
    "# 这里是你的测试代码"
   ]
  },
  {
   "cell_type": "markdown",
   "metadata": {},
   "source": [
    "#### 多个手机号格式\n",
    "\n",
    "##### 定义\n",
    "*这里是你的定义。提示：有用的 [Stack Overflow 答案](https://stackoverflow.com/a/123681)。*\n",
    "\n",
    "##### 代码"
   ]
  },
  {
   "cell_type": "code",
   "execution_count": null,
   "metadata": {},
   "outputs": [],
   "source": [
    "# 这里是你的清理代码"
   ]
  },
  {
   "cell_type": "markdown",
   "metadata": {},
   "source": [
    "##### 测试"
   ]
  },
  {
   "cell_type": "code",
   "execution_count": null,
   "metadata": {},
   "outputs": [],
   "source": [
    "# 这里是你的测试代码"
   ]
  },
  {
   "cell_type": "markdown",
   "metadata": {},
   "source": [
    "#### John Doe 的默认数据\n",
    "\n",
    "##### 定义\n",
    "*这里是你的定义。记住，假设替换后的  John Doe 数据不可恢复。*\n",
    "\n",
    "##### 代码"
   ]
  },
  {
   "cell_type": "code",
   "execution_count": null,
   "metadata": {},
   "outputs": [],
   "source": [
    "# 这里是你的清理代码"
   ]
  },
  {
   "cell_type": "markdown",
   "metadata": {},
   "source": [
    "##### 测试"
   ]
  },
  {
   "cell_type": "code",
   "execution_count": null,
   "metadata": {},
   "outputs": [],
   "source": [
    "# 这里是你的测试代码"
   ]
  },
  {
   "cell_type": "markdown",
   "metadata": {},
   "source": [
    "#### Jakobsen、Gersten、Taylor 多条记录\n",
    "\n",
    "##### 定义\n",
    "*这里是你的定义。*\n",
    "\n",
    "##### 代码"
   ]
  },
  {
   "cell_type": "code",
   "execution_count": null,
   "metadata": {},
   "outputs": [],
   "source": [
    "# 这里是你的清理代码"
   ]
  },
  {
   "cell_type": "markdown",
   "metadata": {},
   "source": [
    "##### Test"
   ]
  },
  {
   "cell_type": "code",
   "execution_count": null,
   "metadata": {},
   "outputs": [],
   "source": [
    "# 这里是你的测试代码"
   ]
  },
  {
   "cell_type": "markdown",
   "metadata": {},
   "source": [
    "#### Zaitseva 体重单位是 kgs，不是 lbs \n",
    "\n",
    "##### 定义\n",
    "*这里是你的定义。*\n",
    "\n",
    "##### 代码"
   ]
  },
  {
   "cell_type": "code",
   "execution_count": null,
   "metadata": {},
   "outputs": [],
   "source": [
    "# 这里是你的清理代码"
   ]
  },
  {
   "cell_type": "markdown",
   "metadata": {},
   "source": [
    "##### 测试"
   ]
  },
  {
   "cell_type": "code",
   "execution_count": null,
   "metadata": {},
   "outputs": [],
   "source": [
    "# 这里是你的测试代码"
   ]
  }
 ],
 "metadata": {
  "kernelspec": {
   "display_name": "Python 3",
   "language": "python",
   "name": "python3"
  },
  "language_info": {
   "codemirror_mode": {
    "name": "ipython",
    "version": 3
   },
   "file_extension": ".py",
   "mimetype": "text/x-python",
   "name": "python",
   "nbconvert_exporter": "python",
   "pygments_lexer": "ipython3",
   "version": "3.6.3"
  }
 },
 "nbformat": 4,
 "nbformat_minor": 2
}
